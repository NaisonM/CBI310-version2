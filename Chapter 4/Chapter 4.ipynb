{
 "cells": [
  {
   "cell_type": "markdown",
   "metadata": {},
   "source": [
    "# Chapter 4: Livestock\n"
   ]
  },
  {
   "cell_type": "markdown",
   "metadata": {},
   "source": [
    "<img src=\"Chickens.jpg\" width=\"500\"/>"
   ]
  },
  {
   "cell_type": "markdown",
   "metadata": {},
   "source": [
    "## What is in a name?\n",
    "\n",
    "Have you ever heard about [*Gallus gallus domesticus*](https://en.wikipedia.org/wiki/Chicken)?\n",
    "\n",
    "<img src=\"chicken 2.png\" width=\"250\"/>\n",
    "\n",
    "[Video: How clever is a chicken?](https://www.youtube.com/watch?v=L7EfLNFRG7M)\n",
    "\n",
    "Before we get into doing calculations on chicken farming, we need to talk a little about classification.\n",
    "\n",
    "\n",
    "Every living thing requires a scientific name. The organisation structure for giving names changed throughout the last centuries, but let’s start with a simple introduction:\n",
    "\n",
    "[Video: Classification](https://youtu.be/SA02un37GFQ)\n",
    "\n",
    "Lots of different subdivisions before you get to the genus and specie names. Don’t bother trying to remember all the different classes. Let’s rather think about how one develops a system of classification. Let’s see what Paul Andersen has to say on the topic:\n",
    "\n",
    "[Video: Paul Anderson on classification](https://www.youtube.com/watch?v=tYL_8gv7RiE)\n",
    "\n",
    "The important part of this video is that DNA is the key to perform proper classification. Prior to the age of understanding DNA, classification was based on looks and functionality, but have a look at these two bugs, they are completely different by name! How long ago did these two organisms share a common ancestor?\n",
    "\n",
    "<img src=\"bug1.png\" width=\"650\" />\n",
    "  \n",
    "_Glomeris marginata and Armadillidium vulgare (left to right)_\n",
    "\n",
    "So it all has to do with the origin of species. Accordingly the map of evolution becomes the map of correct classification. All living things share a common ancestor and are more similar to you than what you think. Check this out:\n",
    "\n",
    "[Video: Molecules of evolution](https://www.youtube.com/watch?v=nvJFI3ChOUU)\n",
    "\n",
    "Interestinghow the molecules that we have discussed in the previous chapters are used by all these different life forms. You should realise how the tree of life represents a timeline of evolutionary development. The following interactive chart will give you an idea, try and develop a feeling for the chart with special emphasis on the initial split points between bacteria, archea and eukaryotes. Try and play with the map to determine the common ancestors of two vastly different species. When for example did humans split from mushrooms (fungi)😃?\n",
    "\n",
    "[Interactive map: From bacteria to humans](https://www.evogeneao.com/en)\n",
    "\n",
    "For more information on archaea, a relative recent discovery check this out:\n",
    "\n",
    "[Video: Archaea](https://www.youtube.com/watch?v=0W-uItr5M4g)\n",
    "\n",
    "So whether we are working with humans, plants, chickens, cattle or microbes (later chapters), we all share a common ancestor. We are in fact all connected!\n",
    "\n",
    "<img src=\"think.jpeg\" width=\"450\" />"
   ]
  },
  {
   "cell_type": "markdown",
   "metadata": {},
   "source": [
    "## Mass balances over Chicken farm\n",
    "\n",
    "So by now you have performed mass balances over the human metabolism and a crop growing agricultural unit. In this exersize we will perform the mass balances over a chicken farm. The diagram below gives you a good indication of how the 3 types of mass balances will connect to provide Ben with a diet that contains real meat. Remeber that we are interested in how the elements distribute in the scheme below:\n",
    "\n",
    "<img src=\"chickMB.png\" width=\"700\"/>\n",
    "\n",
    "<img src=\"atoms.png\" width=\"350\"/>\n"
   ]
  },
  {
   "cell_type": "markdown",
   "metadata": {},
   "source": [
    "### Calculating Formulas\n",
    "\n",
    "For simplicity, the chicken is assumed to consist of the same crops as the human diet, as discussed in Chapter 3, as all of these crops are edible to chickens and provide the nutrients required to sustain them. The amounts of each crop in the chicken diet will be different from the human diet in Chapter 3, however, and we can assume that the diet consists of 35% soybeans, 30% sweet potato, 23% kale, and 12% blackberries (on wet basis). The formulas for each crop on a dry basis from Chapter 3 as as follows:\n",
    "\n",
    "Soybeans: \n",
    "$$CH_{1.788}O_{0.413}N_{0.11}$$\n",
    "Sweet potato: \n",
    "$$CH_{1.895}O_{0.905 }N_{0.026 }$$\n",
    "Kale: \n",
    "$$CH_{1.737}O_{0.608}N_{0.077}$$\n",
    "Blackberries: \n",
    "$$CH_{1.711}O_{0.749}N_{0.053}$$\n",
    "\n",
    "Given the chicken feed distrubtion you should be able to calculate a total foodstream to the chickens with the following formula:\n",
    "\n",
    "$$CH_{1.797}O_{0.506}N_{0.094}$$"
   ]
  },
  {
   "cell_type": "code",
   "execution_count": null,
   "metadata": {},
   "outputs": [],
   "source": []
  },
  {
   "cell_type": "markdown",
   "metadata": {},
   "source": [
    "\n",
    "Now we want to determine the wet amount of food per day to the chicken farm if one chciken is slaugtered per day and you only have one laying hen. You can assume that laying hens require 500 kJ of energy per kg body mass per day, and full grown broiler chickens (chickens bred for meat) require 32000 kJ per kg body mass per lifespan (9 weeks). Note that you will have to feed 32000 kJ/day/kg to the whole chicken farm if you slaugter a chicken a day since there is 9x7 broilers on the farm, varying in size. The average hen has a body mass of around 2.5 kg, and the average brioler chicken ready for slaughter has a mass of around 1.8 kg.  \n",
    "\n",
    "|       | Energy (kJ/100g) |\n",
    "| ----------- | ----------- |\n",
    "| Sweet potato      | 361       |\n",
    "| Kale   | 180        |\n",
    "| Soybeans   | 1866        |\n",
    "| Blackberries   | 180        |"
   ]
  },
  {
   "cell_type": "code",
   "execution_count": null,
   "metadata": {},
   "outputs": [],
   "source": []
  },
  {
   "cell_type": "markdown",
   "metadata": {},
   "source": [
    "You should get 151.6 g/day for the laying hen and 6987 g/day (both wet basis) for the full grown broiler and all the other chicks not already fully grown.\n",
    "\n",
    "As a part of the new human diet, we will assume that 200g chicken is eaten by a human each day, in addition to 2 eggs. Calculate a formula for chicken meat and eggs using the information in the table below.\n",
    "\n",
    "|       | Chicken | Eggs |     |\n",
    "| ----------- | ----------- | ----------- | ----------- |\n",
    "| Protein | 38 | 12 | g/100g |\n",
    "| Carbohydrates | 0 | 1 | g/100g |\n",
    "| Fat | 2 | 11 | g/100g |\n",
    "| Fibre | 0 | 0 | g/100g |\n",
    "    | Water | 59.4 | 75.5 | g/100g |\n",
    "| K | 220 | 126 | mg/100g |\n",
    "| Mg | 22 | 12 | mg/100g |\n",
    "| Ca | 5 | 55 | mg/100g |\n",
    "| P | 220 | 200 | mg/100g |\n",
    "| Fe | 1.1 | 1.8 | mg/100g |\n",
    "| Na | 84 | 140 | mg/100g |\n",
    "\n",
    "The formulas for protein, carbohydrate and fats will remain the same as in Chapter 2 and 3."
   ]
  },
  {
   "cell_type": "code",
   "execution_count": null,
   "metadata": {},
   "outputs": [],
   "source": []
  },
  {
   "cell_type": "markdown",
   "metadata": {},
   "source": [
    "You should get the following formula for chicken meat:\n",
    "\n",
    "$$CH_{1.628}O_{0.305}N_{0.241}$$\n",
    "\n",
    "And for the egg:\n",
    "\n",
    "$$CH_{1.832}O_{0.2218}N_{0.109}$$\n",
    "\n",
    "Lastly we have to consider the chicken waste. Did you know that only 68.4% of a chicken is edible. The rest of the chicken consist of feathers (8%), bones (14%), organs and connective tissue (9.6%). In addition chickens also produce a lot of manure. For now you can use the following formulas for the chicken waste and manure:\n",
    "\n",
    "Chicken waste:\n",
    "$$CH_{1.79}O_{0.218}N_{0.134}$$\n",
    "\n",
    "Chicken manure.\n",
    "\n",
    "$$CH_{1.612}O_{0.553}N_{0.16}$$\n",
    "\n",
    "\n"
   ]
  },
  {
   "cell_type": "markdown",
   "metadata": {},
   "source": [
    "### How many chickens to feed Ben?\n",
    "\n",
    "Now that we know the composition of the chicken feed, we want to calculate the amount of feed required for the chicken farm in order to provide a daily meal to Ben where 200g of chicken meat and 2 eggs are part of Ben's diet. Determine the dry flow rate of chicken feed required to feed Ben his chicken products. You can assume that a laying hen lays 5 eggs in a week.You can use the table below, but remember that this was given on a wet basis and that we want all final answers on a dry basis. \n",
    "\n",
    "|       | Energy (kJ/100g) |\n",
    "| ----------- | ----------- |\n",
    "| Sweet potato      | 361       |\n",
    "| Kale   | 180        |\n",
    "| Soybeans   | 1866        |\n",
    "| Blackberries   | 180        |\n",
    "\n",
    "Better to convert to a dry basis as soon as possible.\n",
    "\n"
   ]
  },
  {
   "cell_type": "code",
   "execution_count": null,
   "metadata": {},
   "outputs": [],
   "source": [
    "R_CW = np.array([1 , 1.79  , 0.218   , 0.134])\n",
    "R_CM = np.array([1 , 1.612 , 0.0.553 , 0.16 ])"
   ]
  },
  {
   "cell_type": "markdown",
   "metadata": {},
   "source": [
    "You should get that 0.1624 broilers and 2.8 hens are required to feed Ben daily. This translates to 424 g of feed to the hens and 1135 g of feed to the chicken farm on a daily basis "
   ]
  },
  {
   "cell_type": "markdown",
   "metadata": {},
   "source": [
    "### Ben's new meat eating diet\n",
    "\n",
    "Calculate the amount of energy that both the 200g chicken meat and 2 eggs are providing to Ben daily by using the protein, carbs and fat distribution in the table above. The energy provided by 200g chicken meat is 1444kJ and the energy provided by 2 chicken eggs is 620kJ. How does your values compare? You should get a 0.6% error for the chicken meat energy and 1.4% error for the chicken egg.\n"
   ]
  },
  {
   "cell_type": "code",
   "execution_count": null,
   "metadata": {},
   "outputs": [],
   "source": []
  },
  {
   "cell_type": "markdown",
   "metadata": {},
   "source": [
    "Given that Ben is now eating chicken and eggs, we can reduce his intake from plant based food. If we require 49.39% carbs, 38.26% protein and 12.36% fat in Ben's diet, determine the distribution of the 4 crops that Ben should eat in addition to his meat and eggs. You can assume that the mass of the edible part of a chicken egg is 55g.\n"
   ]
  },
  {
   "cell_type": "code",
   "execution_count": null,
   "metadata": {},
   "outputs": [],
   "source": []
  },
  {
   "cell_type": "markdown",
   "metadata": {},
   "source": [
    "Try and solve the carb, protein and fat fraction given above with itteration by using fsolve. If you struggle see if the the answer given below is at least working in your calculation:\n",
    "\n",
    "Sweet Patato:50%\n",
    "\n",
    "Kale:20%\n",
    "\n",
    "Soy:10%\n",
    "\n",
    "Blackberries:20%\n",
    "\n",
    "Above given on a wet basis"
   ]
  },
  {
   "cell_type": "markdown",
   "metadata": {},
   "source": [
    "### Combined mass balances\n",
    "\n",
    "You now have all the required information to complete 3 different mass balances (each balance on its own) represented in the schematic below:\n",
    "\n",
    "<img src=\"chickMB.png\" width=\"700\"/>\n",
    "\n",
    "You can assume that both egggs and chicken consist of 75% water.\n",
    "\n",
    "a) Determine the amount of $CO_2$ consumed in the agricultural unit for chicken and human feed. How does this compare to the figure of 1411g/day of $CO_2$ when only a vegan diet was followed? [3019.4 g/day]\n",
    "\n",
    "b) The total amount of dry biomass produced from agriculture in chapter 3 is 787.8 g/day. Show that for the meat eating diet the total dry mass produced in agriculture is 1691.3 g/day.\n",
    "\n",
    "c) Determine the g/day of $CO_2$ produced by the chicken farm.[558.9 g/day]\n",
    "\n",
    "d) How much chicken manure is produced per day? [282 g/day on dry basis] Is this value realistic for the amount of chickens on the farm?\n",
    "\n",
    "e) What is Ben's $CO_2$ production on his meat eating diet compared to the vegan diet? Assume that his urine contains only 35 g urea per day and use the formula in chapter 2 for his humanure. [626 g/day vs 594 g/day]\n"
   ]
  },
  {
   "cell_type": "code",
   "execution_count": null,
   "metadata": {},
   "outputs": [],
   "source": []
  },
  {
   "cell_type": "markdown",
   "metadata": {},
   "source": [
    "### Combined mass balances\n",
    "\n",
    "You now have all the required information to complete 3 different mass balances (each balance on its own) represented in the schematic below:\n",
    "\n",
    "<img src=\"chickMB.png\" width=\"700\"/>\n",
    "\n",
    "You can assume that both egggs and chicken consist of 75% water.\n",
    "\n",
    "a) Determine the amount of $CO_2$ consumed in the agricultural unit for chicken and human feed. How does this compare to the figure of 1411g/day of $CO_2$ when only a vegan diet was followed? [3019.4 g/day]\n",
    "\n",
    "b) The total amount of dry biomass produced from agriculture in chapter 3 is 787.8 g/day. Show that for the meat eating diet the total dry mass produced in agriculture is 1691.3 g/day.\n",
    "\n",
    "c) Determine the g/day of $CO_2$ produced by the chicken farm.[558.9 g/day]\n",
    "\n",
    "d) How much chicken manure is produced per day? [282 g/day on dry basis] Is this value realistic for the amount of chickens on the farm?\n",
    "\n",
    "e) What is Ben's $CO_2$ production on his meat eating diet compared to the vegan diet? Assume that his urine contains only 35 g urea per day and use the formula in chapter 2 for his humanure. [626 g/day vs 594 g/day]\n"
   ]
  },
  {
   "cell_type": "markdown",
   "metadata": {},
   "source": [
    "### How much land is required for Ben's diet\n",
    "\n",
    "In the previous chapter Ben had an vegan diet and in this chapter Ben has an animal based diet. We are are very interested in comparing the land area requirements of these two diets in order to perform a comparrison."
   ]
  },
  {
   "cell_type": "markdown",
   "metadata": {},
   "source": [
    "We now want to compare the land area requirement of Ben's new diet (with chicken) to the the Vegan diet used in Chapter 3. \n",
    "\n",
    "The yield and spacing data for the crops is presented below, and an area of 1 square meter is assigned to each chicken per lifetime.\n",
    "\n",
    "|       | Yield per plant | Time period | Spacing needed between each plant | \n",
    "| ----------- | ----------- | ----------- | ----------- |\n",
    "| Sweet potato      | 681 g  |  4 months   | 16 in |\n",
    "| Kale   | 907 g  | 3 months      | 18 in |\n",
    "| Soybeans   | 41 g  | 3 months   | 15 cm |\n",
    "| Blackberries   | 4536 g | 1 year  | 5 ft |\n",
    "\n",
    "Note: spacing is ito. palnts in a single row, some farmers may prefer a larger space between their rows. \n",
    "\n",
    "To grow enough food to sustain himself and the chickens for a year (and considering these crops wont grow in winter) Ben decides to plant sweet potatoes twice a year, kale and soybeans three times a year, and the blackberry bushes once. \n",
    "\n",
    "f) What are is required for the vegan diet? [134.3 m2]\n",
    "\n",
    "g) How much more area is required for the diet containing chicken products? You can assume that each chicken takes uop 3m2 of space.[1.73 times] "
   ]
  },
  {
   "cell_type": "code",
   "execution_count": null,
   "metadata": {},
   "outputs": [],
   "source": []
  },
  {
   "cell_type": "markdown",
   "metadata": {},
   "source": [
    "One important question to answer is whether meat from annimals is required in the human diet. Meat adds a of flavour to food, but vegetarians will argue that it is not a requirement in the human diet. Off course vegetarians still consume eggs and milk and thus livestock farming is still required to some extend. Only vegans live on plant based food only and they will argue that they get all the nutrition required for human health. Have a look at the following video and develop your own opinion on the statements used. We'll have a short discussion in class on the video.\n",
    "\n",
    "[Video: Do we need meat?](https://youtu.be/GhCmcQaJmso)\n",
    "\n"
   ]
  },
  {
   "cell_type": "code",
   "execution_count": null,
   "metadata": {},
   "outputs": [],
   "source": []
  }
 ],
 "metadata": {
  "kernelspec": {
   "display_name": "Python 3 (ipykernel)",
   "language": "python",
   "name": "python3"
  },
  "language_info": {
   "codemirror_mode": {
    "name": "ipython",
    "version": 3
   },
   "file_extension": ".py",
   "mimetype": "text/x-python",
   "name": "python",
   "nbconvert_exporter": "python",
   "pygments_lexer": "ipython3",
   "version": "3.9.13"
  }
 },
 "nbformat": 4,
 "nbformat_minor": 4
}
